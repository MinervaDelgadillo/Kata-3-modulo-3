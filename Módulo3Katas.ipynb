{
 "cells": [
  {
   "cell_type": "code",
   "execution_count": 4,
   "metadata": {},
   "outputs": [
    {
     "name": "stdout",
     "output_type": "stream",
     "text": [
      "No existe peligro, ten excelente día\n"
     ]
    }
   ],
   "source": [
    "\n",
    "#Escribirás una lógica condicional que imprima una advertencia si un asteroide se acerca a la Tierra demasiado rápido.\n",
    "#La velocidad del asteroide varía dependiendo de lo cerca que esté del sol, y cualquier velocidad superior a 25 kilómetros\n",
    "#por segundo (km/s) merece una advertencia.\n",
    "\n",
    "#Un asteroide se acerca, y viaja a una velocidad de 49 km/s.\n",
    "#Añadir el código necesario para crear una variable que guarde la velocidad del asteroide.\n",
    "#Escribe una expresión de prueba para calcular si necesita una advertencia.\n",
    "#Agregue las instrucciones que se ejecutarán si la expresión de prueba es true o false.\n",
    "\n",
    "\n",
    "print(\"Ejercicio 1\")\n",
    "vel_aste=49\n",
    "\n",
    "if vel_aste > 49:\n",
    "    print(\"¡Peligro! Se acerca un asteroide a una velocidad peligrosa\")\n",
    "else:\n",
    "    print(\"No existe peligro, ten excelente día\")"
   ]
  },
  {
   "cell_type": "code",
   "execution_count": 9,
   "metadata": {},
   "outputs": [
    {
     "name": "stdout",
     "output_type": "stream",
     "text": [
      "Ejercicio 2\n",
      "Primera manera de código\n",
      "Hoy no vimos rayos de luz en el cielo, le falto velocidad a ese asteroide :(\n",
      "Esta es la otra opcion de codigo\n",
      "Acabas de ver un rayo de luz! porque un asteroide entro a la atmósfera\n"
     ]
    }
   ],
   "source": [
    "#Si un asteroide entra en la atmósfera de la Tierra a una velocidad mayor o igual a 20 km/s, a veces produce un rayo\n",
    "# de luz que se puede ver desde la Tierra. Escribe la lógica condicional que usa declaraciones if, else, y elif para \n",
    "# alertar a las personas de todo el mundo que deben buscar un asteroide en el cielo. ¡Hay uno que se dirige a la tierra ahora a una velocidad de 19 km/s!\n",
    "#Agrega el código para crear una variable para un asteroide que viaja a 19 km/s\n",
    "# Escribe varias expresiones de prueba para determinar si puedes ver el rayo de luz desde la tierra\n",
    "# Agrega las instrucciones que se ejecutarán si las expresiones de prueba son True o False\n",
    "\n",
    "print(\"Ejercicio 2\")\n",
    "vel_aste=19\n",
    "print(\"Primera manera de código\")\n",
    "if vel_aste >= 20:\n",
    "    print(\"Acabas de ver un rayo de luz! porque un asteroide entro a la atmósfera\")\n",
    "else:\n",
    "    print(\"Hoy no vimos rayos de luz en el cielo, le falto velocidad a ese asteroide :(\")\n",
    "\n",
    "print(\"Esta es la otra opcion de codigo\")\n",
    "\n",
    "velocidad= 21 #cambie la velocidad para que mostrara el mensaje de entro a la atmosfera\n",
    "\n",
    "if velocidad > 20:\n",
    "     print(\"Acabas de ver un rayo de luz! porque un asteroide entro a la atmósfera\")\n",
    "elif velocidad == 20: #es como un else if, recuerda que debes de poner dos veces el igual\n",
    "     print(\"Acabas de ver un rayo de luz! porque un asteroide entro a la atmósfera\")\n",
    "else:\n",
    "    print(\"Hoy no vimos rayos de luz en el cielo, le falto velocidad a ese asteroide :( , pero no tanta para correr peligro \")  \n"
   ]
  },
  {
   "cell_type": "code",
   "execution_count": 22,
   "metadata": {},
   "outputs": [
    {
     "name": "stdout",
     "output_type": "stream",
     "text": [
      "Ejercicio 3\n",
      "Peligro puede ser mortal por la velocidad\n"
     ]
    }
   ],
   "source": [
    "#En este ejercicio, aprenderás información más matizada sobre cuándo los asteroides representan un peligro para la Tierra,\n",
    "#  y utilizarás esa información para mejorar nuestro sistema de advertencia. Aquí está la nueva información que necesitas saber:\n",
    "\n",
    "#Los asteroides de menos de 25 metros en su dimensión más grande probablemente se quemarán a medida que entren en la atmósfera de la Tierra.\n",
    "\n",
    "#Si una pieza de un asteroide que es más grande que 25 metros pero más pequeña que 1000 metros golpeara la Tierra, causaría mucho daño.\n",
    "#También discutimos en el ejercicio anterior que:\n",
    "\n",
    "#La velocidad del asteroide varía en función de lo cerca que esté del sol, y cualquier velocidad superior a 25 kilómetros por segundo (km/s) merece una advertencia.\n",
    "#Si un asteroide entra en la atmósfera de la Tierra a una velocidad mayor o igual a 20 km/s, a veces produce un rayo de luz que se puede ver desde la Tierra.\n",
    "#Usando toda esta información, escribe un programa que emita la advertencia o información correcta a la gente de la Tierra, según la velocidad y el tamaño de un asteroide.\n",
    "\n",
    "print(\"Ejercicio 3\")\n",
    "\n",
    "velocidad =25\n",
    "tamano = 18\n",
    "\n",
    "if velocidad >= 25 and tamano >= 25:\n",
    "    print(\"!!Moriremos todos!!!\")\n",
    "elif velocidad < 25 and tamano < 25:\n",
    "    print(\"No te preocupes la velocidad y su tamaño son muy pequeños, por lo cual puede quemarse a medida que entre a la atmosfera  o solo verse un rayo de luz\")\n",
    "elif tamano >=25 and tamano <= 1000:\n",
    "    print(\"Peligro! es demasiado grande y si moriremos!\")\n",
    "elif velocidad >=25:\n",
    "    print(\"Peligro puede ser mortal por la velocidad\")\n",
    "else:\n",
    "    print(\"Tranquilo, no pasa nada\")\n"
   ]
  }
 ],
 "metadata": {
  "interpreter": {
   "hash": "6d789933423f2026dd762f632057f7ae59cc19f3153fdbf8a64e7992d654ea7e"
  },
  "kernelspec": {
   "display_name": "Python 3.10.2 64-bit",
   "language": "python",
   "name": "python3"
  },
  "language_info": {
   "codemirror_mode": {
    "name": "ipython",
    "version": 3
   },
   "file_extension": ".py",
   "mimetype": "text/x-python",
   "name": "python",
   "nbconvert_exporter": "python",
   "pygments_lexer": "ipython3",
   "version": "3.10.2"
  },
  "orig_nbformat": 4
 },
 "nbformat": 4,
 "nbformat_minor": 2
}
